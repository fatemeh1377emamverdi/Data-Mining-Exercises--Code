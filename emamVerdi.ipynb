{
  "nbformat": 4,
  "nbformat_minor": 0,
  "metadata": {
    "colab": {
      "name": "emamVerdi.ipynb",
      "provenance": [],
      "include_colab_link": true
    },
    "kernelspec": {
      "name": "python3",
      "display_name": "Python 3"
    },
    "widgets": {
      "application/vnd.jupyter.widget-state+json": {
        "e0d2611f0bb741a59e926aef1ebdc3a5": {
          "model_module": "@jupyter-widgets/controls",
          "model_name": "HBoxModel",
          "state": {
            "_view_name": "HBoxView",
            "_dom_classes": [],
            "_model_name": "HBoxModel",
            "_view_module": "@jupyter-widgets/controls",
            "_model_module_version": "1.5.0",
            "_view_count": null,
            "_view_module_version": "1.5.0",
            "box_style": "",
            "layout": "IPY_MODEL_81599aaf2c3b446db41d8d1d63abc336",
            "_model_module": "@jupyter-widgets/controls",
            "children": [
              "IPY_MODEL_87602a02986f4177bf4cd1bd1ce3d07f",
              "IPY_MODEL_b90cadc0dd854c9baf02444e0ea4bf3f"
            ]
          }
        },
        "81599aaf2c3b446db41d8d1d63abc336": {
          "model_module": "@jupyter-widgets/base",
          "model_name": "LayoutModel",
          "state": {
            "_view_name": "LayoutView",
            "grid_template_rows": null,
            "right": null,
            "justify_content": null,
            "_view_module": "@jupyter-widgets/base",
            "overflow": null,
            "_model_module_version": "1.2.0",
            "_view_count": null,
            "flex_flow": null,
            "width": null,
            "min_width": null,
            "border": null,
            "align_items": null,
            "bottom": null,
            "_model_module": "@jupyter-widgets/base",
            "top": null,
            "grid_column": null,
            "overflow_y": null,
            "overflow_x": null,
            "grid_auto_flow": null,
            "grid_area": null,
            "grid_template_columns": null,
            "flex": null,
            "_model_name": "LayoutModel",
            "justify_items": null,
            "grid_row": null,
            "max_height": null,
            "align_content": null,
            "visibility": null,
            "align_self": null,
            "height": null,
            "min_height": null,
            "padding": null,
            "grid_auto_rows": null,
            "grid_gap": null,
            "max_width": null,
            "order": null,
            "_view_module_version": "1.2.0",
            "grid_template_areas": null,
            "object_position": null,
            "object_fit": null,
            "grid_auto_columns": null,
            "margin": null,
            "display": null,
            "left": null
          }
        },
        "87602a02986f4177bf4cd1bd1ce3d07f": {
          "model_module": "@jupyter-widgets/controls",
          "model_name": "FloatProgressModel",
          "state": {
            "_view_name": "ProgressView",
            "style": "IPY_MODEL_f2f83aec27884c7fb84154abec248611",
            "_dom_classes": [],
            "description": "Downloading: 100%",
            "_model_name": "FloatProgressModel",
            "bar_style": "success",
            "max": 231508,
            "_view_module": "@jupyter-widgets/controls",
            "_model_module_version": "1.5.0",
            "value": 231508,
            "_view_count": null,
            "_view_module_version": "1.5.0",
            "orientation": "horizontal",
            "min": 0,
            "description_tooltip": null,
            "_model_module": "@jupyter-widgets/controls",
            "layout": "IPY_MODEL_426fe1816e6e414092315353bcc4ba1f"
          }
        },
        "b90cadc0dd854c9baf02444e0ea4bf3f": {
          "model_module": "@jupyter-widgets/controls",
          "model_name": "HTMLModel",
          "state": {
            "_view_name": "HTMLView",
            "style": "IPY_MODEL_33d0bece38244594b13ecff78d80c34c",
            "_dom_classes": [],
            "description": "",
            "_model_name": "HTMLModel",
            "placeholder": "​",
            "_view_module": "@jupyter-widgets/controls",
            "_model_module_version": "1.5.0",
            "value": " 232k/232k [00:00&lt;00:00, 2.16MB/s]",
            "_view_count": null,
            "_view_module_version": "1.5.0",
            "description_tooltip": null,
            "_model_module": "@jupyter-widgets/controls",
            "layout": "IPY_MODEL_102111e1d5b64988a1fbd55f1ba223c0"
          }
        },
        "f2f83aec27884c7fb84154abec248611": {
          "model_module": "@jupyter-widgets/controls",
          "model_name": "ProgressStyleModel",
          "state": {
            "_view_name": "StyleView",
            "_model_name": "ProgressStyleModel",
            "description_width": "initial",
            "_view_module": "@jupyter-widgets/base",
            "_model_module_version": "1.5.0",
            "_view_count": null,
            "_view_module_version": "1.2.0",
            "bar_color": null,
            "_model_module": "@jupyter-widgets/controls"
          }
        },
        "426fe1816e6e414092315353bcc4ba1f": {
          "model_module": "@jupyter-widgets/base",
          "model_name": "LayoutModel",
          "state": {
            "_view_name": "LayoutView",
            "grid_template_rows": null,
            "right": null,
            "justify_content": null,
            "_view_module": "@jupyter-widgets/base",
            "overflow": null,
            "_model_module_version": "1.2.0",
            "_view_count": null,
            "flex_flow": null,
            "width": null,
            "min_width": null,
            "border": null,
            "align_items": null,
            "bottom": null,
            "_model_module": "@jupyter-widgets/base",
            "top": null,
            "grid_column": null,
            "overflow_y": null,
            "overflow_x": null,
            "grid_auto_flow": null,
            "grid_area": null,
            "grid_template_columns": null,
            "flex": null,
            "_model_name": "LayoutModel",
            "justify_items": null,
            "grid_row": null,
            "max_height": null,
            "align_content": null,
            "visibility": null,
            "align_self": null,
            "height": null,
            "min_height": null,
            "padding": null,
            "grid_auto_rows": null,
            "grid_gap": null,
            "max_width": null,
            "order": null,
            "_view_module_version": "1.2.0",
            "grid_template_areas": null,
            "object_position": null,
            "object_fit": null,
            "grid_auto_columns": null,
            "margin": null,
            "display": null,
            "left": null
          }
        },
        "33d0bece38244594b13ecff78d80c34c": {
          "model_module": "@jupyter-widgets/controls",
          "model_name": "DescriptionStyleModel",
          "state": {
            "_view_name": "StyleView",
            "_model_name": "DescriptionStyleModel",
            "description_width": "",
            "_view_module": "@jupyter-widgets/base",
            "_model_module_version": "1.5.0",
            "_view_count": null,
            "_view_module_version": "1.2.0",
            "_model_module": "@jupyter-widgets/controls"
          }
        },
        "102111e1d5b64988a1fbd55f1ba223c0": {
          "model_module": "@jupyter-widgets/base",
          "model_name": "LayoutModel",
          "state": {
            "_view_name": "LayoutView",
            "grid_template_rows": null,
            "right": null,
            "justify_content": null,
            "_view_module": "@jupyter-widgets/base",
            "overflow": null,
            "_model_module_version": "1.2.0",
            "_view_count": null,
            "flex_flow": null,
            "width": null,
            "min_width": null,
            "border": null,
            "align_items": null,
            "bottom": null,
            "_model_module": "@jupyter-widgets/base",
            "top": null,
            "grid_column": null,
            "overflow_y": null,
            "overflow_x": null,
            "grid_auto_flow": null,
            "grid_area": null,
            "grid_template_columns": null,
            "flex": null,
            "_model_name": "LayoutModel",
            "justify_items": null,
            "grid_row": null,
            "max_height": null,
            "align_content": null,
            "visibility": null,
            "align_self": null,
            "height": null,
            "min_height": null,
            "padding": null,
            "grid_auto_rows": null,
            "grid_gap": null,
            "max_width": null,
            "order": null,
            "_view_module_version": "1.2.0",
            "grid_template_areas": null,
            "object_position": null,
            "object_fit": null,
            "grid_auto_columns": null,
            "margin": null,
            "display": null,
            "left": null
          }
        },
        "380770e22c56491eb4b9297f606d698f": {
          "model_module": "@jupyter-widgets/controls",
          "model_name": "HBoxModel",
          "state": {
            "_view_name": "HBoxView",
            "_dom_classes": [],
            "_model_name": "HBoxModel",
            "_view_module": "@jupyter-widgets/controls",
            "_model_module_version": "1.5.0",
            "_view_count": null,
            "_view_module_version": "1.5.0",
            "box_style": "",
            "layout": "IPY_MODEL_4e39c92fd78a45ae8ca2db41cc0355e4",
            "_model_module": "@jupyter-widgets/controls",
            "children": [
              "IPY_MODEL_43ebfa72f5a24873832054087ae2f4e2",
              "IPY_MODEL_6e03af22d8ff4054a9b4978653e2df06"
            ]
          }
        },
        "4e39c92fd78a45ae8ca2db41cc0355e4": {
          "model_module": "@jupyter-widgets/base",
          "model_name": "LayoutModel",
          "state": {
            "_view_name": "LayoutView",
            "grid_template_rows": null,
            "right": null,
            "justify_content": null,
            "_view_module": "@jupyter-widgets/base",
            "overflow": null,
            "_model_module_version": "1.2.0",
            "_view_count": null,
            "flex_flow": null,
            "width": null,
            "min_width": null,
            "border": null,
            "align_items": null,
            "bottom": null,
            "_model_module": "@jupyter-widgets/base",
            "top": null,
            "grid_column": null,
            "overflow_y": null,
            "overflow_x": null,
            "grid_auto_flow": null,
            "grid_area": null,
            "grid_template_columns": null,
            "flex": null,
            "_model_name": "LayoutModel",
            "justify_items": null,
            "grid_row": null,
            "max_height": null,
            "align_content": null,
            "visibility": null,
            "align_self": null,
            "height": null,
            "min_height": null,
            "padding": null,
            "grid_auto_rows": null,
            "grid_gap": null,
            "max_width": null,
            "order": null,
            "_view_module_version": "1.2.0",
            "grid_template_areas": null,
            "object_position": null,
            "object_fit": null,
            "grid_auto_columns": null,
            "margin": null,
            "display": null,
            "left": null
          }
        },
        "43ebfa72f5a24873832054087ae2f4e2": {
          "model_module": "@jupyter-widgets/controls",
          "model_name": "FloatProgressModel",
          "state": {
            "_view_name": "ProgressView",
            "style": "IPY_MODEL_b4bda52c80694fbe9d5c38292c9cca72",
            "_dom_classes": [],
            "description": "Downloading: 100%",
            "_model_name": "FloatProgressModel",
            "bar_style": "success",
            "max": 433,
            "_view_module": "@jupyter-widgets/controls",
            "_model_module_version": "1.5.0",
            "value": 433,
            "_view_count": null,
            "_view_module_version": "1.5.0",
            "orientation": "horizontal",
            "min": 0,
            "description_tooltip": null,
            "_model_module": "@jupyter-widgets/controls",
            "layout": "IPY_MODEL_24ba49431f704fa4a035af083a9fb04a"
          }
        },
        "6e03af22d8ff4054a9b4978653e2df06": {
          "model_module": "@jupyter-widgets/controls",
          "model_name": "HTMLModel",
          "state": {
            "_view_name": "HTMLView",
            "style": "IPY_MODEL_db112474900e4e62bf109a466c79810a",
            "_dom_classes": [],
            "description": "",
            "_model_name": "HTMLModel",
            "placeholder": "​",
            "_view_module": "@jupyter-widgets/controls",
            "_model_module_version": "1.5.0",
            "value": " 433/433 [00:00&lt;00:00, 1.35kB/s]",
            "_view_count": null,
            "_view_module_version": "1.5.0",
            "description_tooltip": null,
            "_model_module": "@jupyter-widgets/controls",
            "layout": "IPY_MODEL_1c2b65b2ab5e49259962c953bfebfaf4"
          }
        },
        "b4bda52c80694fbe9d5c38292c9cca72": {
          "model_module": "@jupyter-widgets/controls",
          "model_name": "ProgressStyleModel",
          "state": {
            "_view_name": "StyleView",
            "_model_name": "ProgressStyleModel",
            "description_width": "initial",
            "_view_module": "@jupyter-widgets/base",
            "_model_module_version": "1.5.0",
            "_view_count": null,
            "_view_module_version": "1.2.0",
            "bar_color": null,
            "_model_module": "@jupyter-widgets/controls"
          }
        },
        "24ba49431f704fa4a035af083a9fb04a": {
          "model_module": "@jupyter-widgets/base",
          "model_name": "LayoutModel",
          "state": {
            "_view_name": "LayoutView",
            "grid_template_rows": null,
            "right": null,
            "justify_content": null,
            "_view_module": "@jupyter-widgets/base",
            "overflow": null,
            "_model_module_version": "1.2.0",
            "_view_count": null,
            "flex_flow": null,
            "width": null,
            "min_width": null,
            "border": null,
            "align_items": null,
            "bottom": null,
            "_model_module": "@jupyter-widgets/base",
            "top": null,
            "grid_column": null,
            "overflow_y": null,
            "overflow_x": null,
            "grid_auto_flow": null,
            "grid_area": null,
            "grid_template_columns": null,
            "flex": null,
            "_model_name": "LayoutModel",
            "justify_items": null,
            "grid_row": null,
            "max_height": null,
            "align_content": null,
            "visibility": null,
            "align_self": null,
            "height": null,
            "min_height": null,
            "padding": null,
            "grid_auto_rows": null,
            "grid_gap": null,
            "max_width": null,
            "order": null,
            "_view_module_version": "1.2.0",
            "grid_template_areas": null,
            "object_position": null,
            "object_fit": null,
            "grid_auto_columns": null,
            "margin": null,
            "display": null,
            "left": null
          }
        },
        "db112474900e4e62bf109a466c79810a": {
          "model_module": "@jupyter-widgets/controls",
          "model_name": "DescriptionStyleModel",
          "state": {
            "_view_name": "StyleView",
            "_model_name": "DescriptionStyleModel",
            "description_width": "",
            "_view_module": "@jupyter-widgets/base",
            "_model_module_version": "1.5.0",
            "_view_count": null,
            "_view_module_version": "1.2.0",
            "_model_module": "@jupyter-widgets/controls"
          }
        },
        "1c2b65b2ab5e49259962c953bfebfaf4": {
          "model_module": "@jupyter-widgets/base",
          "model_name": "LayoutModel",
          "state": {
            "_view_name": "LayoutView",
            "grid_template_rows": null,
            "right": null,
            "justify_content": null,
            "_view_module": "@jupyter-widgets/base",
            "overflow": null,
            "_model_module_version": "1.2.0",
            "_view_count": null,
            "flex_flow": null,
            "width": null,
            "min_width": null,
            "border": null,
            "align_items": null,
            "bottom": null,
            "_model_module": "@jupyter-widgets/base",
            "top": null,
            "grid_column": null,
            "overflow_y": null,
            "overflow_x": null,
            "grid_auto_flow": null,
            "grid_area": null,
            "grid_template_columns": null,
            "flex": null,
            "_model_name": "LayoutModel",
            "justify_items": null,
            "grid_row": null,
            "max_height": null,
            "align_content": null,
            "visibility": null,
            "align_self": null,
            "height": null,
            "min_height": null,
            "padding": null,
            "grid_auto_rows": null,
            "grid_gap": null,
            "max_width": null,
            "order": null,
            "_view_module_version": "1.2.0",
            "grid_template_areas": null,
            "object_position": null,
            "object_fit": null,
            "grid_auto_columns": null,
            "margin": null,
            "display": null,
            "left": null
          }
        },
        "176b27e7aebc4f44b5de5b8abedeec03": {
          "model_module": "@jupyter-widgets/controls",
          "model_name": "HBoxModel",
          "state": {
            "_view_name": "HBoxView",
            "_dom_classes": [],
            "_model_name": "HBoxModel",
            "_view_module": "@jupyter-widgets/controls",
            "_model_module_version": "1.5.0",
            "_view_count": null,
            "_view_module_version": "1.5.0",
            "box_style": "",
            "layout": "IPY_MODEL_22bf6c1943bd4ea6885c4feb4cf3d4ab",
            "_model_module": "@jupyter-widgets/controls",
            "children": [
              "IPY_MODEL_3f4b5a42be21451fb7d4eebf6093a669",
              "IPY_MODEL_c2565b0de6f147fdb1bc03936fe4c2e7"
            ]
          }
        },
        "22bf6c1943bd4ea6885c4feb4cf3d4ab": {
          "model_module": "@jupyter-widgets/base",
          "model_name": "LayoutModel",
          "state": {
            "_view_name": "LayoutView",
            "grid_template_rows": null,
            "right": null,
            "justify_content": null,
            "_view_module": "@jupyter-widgets/base",
            "overflow": null,
            "_model_module_version": "1.2.0",
            "_view_count": null,
            "flex_flow": null,
            "width": null,
            "min_width": null,
            "border": null,
            "align_items": null,
            "bottom": null,
            "_model_module": "@jupyter-widgets/base",
            "top": null,
            "grid_column": null,
            "overflow_y": null,
            "overflow_x": null,
            "grid_auto_flow": null,
            "grid_area": null,
            "grid_template_columns": null,
            "flex": null,
            "_model_name": "LayoutModel",
            "justify_items": null,
            "grid_row": null,
            "max_height": null,
            "align_content": null,
            "visibility": null,
            "align_self": null,
            "height": null,
            "min_height": null,
            "padding": null,
            "grid_auto_rows": null,
            "grid_gap": null,
            "max_width": null,
            "order": null,
            "_view_module_version": "1.2.0",
            "grid_template_areas": null,
            "object_position": null,
            "object_fit": null,
            "grid_auto_columns": null,
            "margin": null,
            "display": null,
            "left": null
          }
        },
        "3f4b5a42be21451fb7d4eebf6093a669": {
          "model_module": "@jupyter-widgets/controls",
          "model_name": "FloatProgressModel",
          "state": {
            "_view_name": "ProgressView",
            "style": "IPY_MODEL_432d8b6dd78242dbbf0b4ee6416a2d61",
            "_dom_classes": [],
            "description": "Downloading: 100%",
            "_model_name": "FloatProgressModel",
            "bar_style": "success",
            "max": 440473133,
            "_view_module": "@jupyter-widgets/controls",
            "_model_module_version": "1.5.0",
            "value": 440473133,
            "_view_count": null,
            "_view_module_version": "1.5.0",
            "orientation": "horizontal",
            "min": 0,
            "description_tooltip": null,
            "_model_module": "@jupyter-widgets/controls",
            "layout": "IPY_MODEL_a62944e8fa984308800ba9045ef202cf"
          }
        },
        "c2565b0de6f147fdb1bc03936fe4c2e7": {
          "model_module": "@jupyter-widgets/controls",
          "model_name": "HTMLModel",
          "state": {
            "_view_name": "HTMLView",
            "style": "IPY_MODEL_26815a5c5ae549ab99ec7516903c8d87",
            "_dom_classes": [],
            "description": "",
            "_model_name": "HTMLModel",
            "placeholder": "​",
            "_view_module": "@jupyter-widgets/controls",
            "_model_module_version": "1.5.0",
            "value": " 440M/440M [00:10&lt;00:00, 40.3MB/s]",
            "_view_count": null,
            "_view_module_version": "1.5.0",
            "description_tooltip": null,
            "_model_module": "@jupyter-widgets/controls",
            "layout": "IPY_MODEL_255e112c28314fe6951680abaf2309d4"
          }
        },
        "432d8b6dd78242dbbf0b4ee6416a2d61": {
          "model_module": "@jupyter-widgets/controls",
          "model_name": "ProgressStyleModel",
          "state": {
            "_view_name": "StyleView",
            "_model_name": "ProgressStyleModel",
            "description_width": "initial",
            "_view_module": "@jupyter-widgets/base",
            "_model_module_version": "1.5.0",
            "_view_count": null,
            "_view_module_version": "1.2.0",
            "bar_color": null,
            "_model_module": "@jupyter-widgets/controls"
          }
        },
        "a62944e8fa984308800ba9045ef202cf": {
          "model_module": "@jupyter-widgets/base",
          "model_name": "LayoutModel",
          "state": {
            "_view_name": "LayoutView",
            "grid_template_rows": null,
            "right": null,
            "justify_content": null,
            "_view_module": "@jupyter-widgets/base",
            "overflow": null,
            "_model_module_version": "1.2.0",
            "_view_count": null,
            "flex_flow": null,
            "width": null,
            "min_width": null,
            "border": null,
            "align_items": null,
            "bottom": null,
            "_model_module": "@jupyter-widgets/base",
            "top": null,
            "grid_column": null,
            "overflow_y": null,
            "overflow_x": null,
            "grid_auto_flow": null,
            "grid_area": null,
            "grid_template_columns": null,
            "flex": null,
            "_model_name": "LayoutModel",
            "justify_items": null,
            "grid_row": null,
            "max_height": null,
            "align_content": null,
            "visibility": null,
            "align_self": null,
            "height": null,
            "min_height": null,
            "padding": null,
            "grid_auto_rows": null,
            "grid_gap": null,
            "max_width": null,
            "order": null,
            "_view_module_version": "1.2.0",
            "grid_template_areas": null,
            "object_position": null,
            "object_fit": null,
            "grid_auto_columns": null,
            "margin": null,
            "display": null,
            "left": null
          }
        },
        "26815a5c5ae549ab99ec7516903c8d87": {
          "model_module": "@jupyter-widgets/controls",
          "model_name": "DescriptionStyleModel",
          "state": {
            "_view_name": "StyleView",
            "_model_name": "DescriptionStyleModel",
            "description_width": "",
            "_view_module": "@jupyter-widgets/base",
            "_model_module_version": "1.5.0",
            "_view_count": null,
            "_view_module_version": "1.2.0",
            "_model_module": "@jupyter-widgets/controls"
          }
        },
        "255e112c28314fe6951680abaf2309d4": {
          "model_module": "@jupyter-widgets/base",
          "model_name": "LayoutModel",
          "state": {
            "_view_name": "LayoutView",
            "grid_template_rows": null,
            "right": null,
            "justify_content": null,
            "_view_module": "@jupyter-widgets/base",
            "overflow": null,
            "_model_module_version": "1.2.0",
            "_view_count": null,
            "flex_flow": null,
            "width": null,
            "min_width": null,
            "border": null,
            "align_items": null,
            "bottom": null,
            "_model_module": "@jupyter-widgets/base",
            "top": null,
            "grid_column": null,
            "overflow_y": null,
            "overflow_x": null,
            "grid_auto_flow": null,
            "grid_area": null,
            "grid_template_columns": null,
            "flex": null,
            "_model_name": "LayoutModel",
            "justify_items": null,
            "grid_row": null,
            "max_height": null,
            "align_content": null,
            "visibility": null,
            "align_self": null,
            "height": null,
            "min_height": null,
            "padding": null,
            "grid_auto_rows": null,
            "grid_gap": null,
            "max_width": null,
            "order": null,
            "_view_module_version": "1.2.0",
            "grid_template_areas": null,
            "object_position": null,
            "object_fit": null,
            "grid_auto_columns": null,
            "margin": null,
            "display": null,
            "left": null
          }
        },
        "d0293eb033ca41debe8575f0004bf739": {
          "model_module": "@jupyter-widgets/controls",
          "model_name": "HBoxModel",
          "state": {
            "_view_name": "HBoxView",
            "_dom_classes": [],
            "_model_name": "HBoxModel",
            "_view_module": "@jupyter-widgets/controls",
            "_model_module_version": "1.5.0",
            "_view_count": null,
            "_view_module_version": "1.5.0",
            "box_style": "",
            "layout": "IPY_MODEL_3e3addf76720451d83c022d42a43b657",
            "_model_module": "@jupyter-widgets/controls",
            "children": [
              "IPY_MODEL_fc95da1690464e5da801dd00be64e542",
              "IPY_MODEL_f8f0bd56857d459aa787fec68817490e"
            ]
          }
        },
        "3e3addf76720451d83c022d42a43b657": {
          "model_module": "@jupyter-widgets/base",
          "model_name": "LayoutModel",
          "state": {
            "_view_name": "LayoutView",
            "grid_template_rows": null,
            "right": null,
            "justify_content": null,
            "_view_module": "@jupyter-widgets/base",
            "overflow": null,
            "_model_module_version": "1.2.0",
            "_view_count": null,
            "flex_flow": null,
            "width": null,
            "min_width": null,
            "border": null,
            "align_items": null,
            "bottom": null,
            "_model_module": "@jupyter-widgets/base",
            "top": null,
            "grid_column": null,
            "overflow_y": null,
            "overflow_x": null,
            "grid_auto_flow": null,
            "grid_area": null,
            "grid_template_columns": null,
            "flex": null,
            "_model_name": "LayoutModel",
            "justify_items": null,
            "grid_row": null,
            "max_height": null,
            "align_content": null,
            "visibility": null,
            "align_self": null,
            "height": null,
            "min_height": null,
            "padding": null,
            "grid_auto_rows": null,
            "grid_gap": null,
            "max_width": null,
            "order": null,
            "_view_module_version": "1.2.0",
            "grid_template_areas": null,
            "object_position": null,
            "object_fit": null,
            "grid_auto_columns": null,
            "margin": null,
            "display": null,
            "left": null
          }
        },
        "fc95da1690464e5da801dd00be64e542": {
          "model_module": "@jupyter-widgets/controls",
          "model_name": "FloatProgressModel",
          "state": {
            "_view_name": "ProgressView",
            "style": "IPY_MODEL_b4a014eac3b1462eb4528a88fbe8ea05",
            "_dom_classes": [],
            "description": "  0%",
            "_model_name": "FloatProgressModel",
            "bar_style": "",
            "max": 5,
            "_view_module": "@jupyter-widgets/controls",
            "_model_module_version": "1.5.0",
            "value": 0,
            "_view_count": null,
            "_view_module_version": "1.5.0",
            "orientation": "horizontal",
            "min": 0,
            "description_tooltip": null,
            "_model_module": "@jupyter-widgets/controls",
            "layout": "IPY_MODEL_8f94d9b133914858981ea656503aeca9"
          }
        },
        "f8f0bd56857d459aa787fec68817490e": {
          "model_module": "@jupyter-widgets/controls",
          "model_name": "HTMLModel",
          "state": {
            "_view_name": "HTMLView",
            "style": "IPY_MODEL_21310f0994254b43960549a2beaa5b56",
            "_dom_classes": [],
            "description": "",
            "_model_name": "HTMLModel",
            "placeholder": "​",
            "_view_module": "@jupyter-widgets/controls",
            "_model_module_version": "1.5.0",
            "value": " 0/5 [00:00&lt;?, ?it/s]",
            "_view_count": null,
            "_view_module_version": "1.5.0",
            "description_tooltip": null,
            "_model_module": "@jupyter-widgets/controls",
            "layout": "IPY_MODEL_a44e1ad9bc4f499bbbe31839397fa299"
          }
        },
        "b4a014eac3b1462eb4528a88fbe8ea05": {
          "model_module": "@jupyter-widgets/controls",
          "model_name": "ProgressStyleModel",
          "state": {
            "_view_name": "StyleView",
            "_model_name": "ProgressStyleModel",
            "description_width": "initial",
            "_view_module": "@jupyter-widgets/base",
            "_model_module_version": "1.5.0",
            "_view_count": null,
            "_view_module_version": "1.2.0",
            "bar_color": null,
            "_model_module": "@jupyter-widgets/controls"
          }
        },
        "8f94d9b133914858981ea656503aeca9": {
          "model_module": "@jupyter-widgets/base",
          "model_name": "LayoutModel",
          "state": {
            "_view_name": "LayoutView",
            "grid_template_rows": null,
            "right": null,
            "justify_content": null,
            "_view_module": "@jupyter-widgets/base",
            "overflow": null,
            "_model_module_version": "1.2.0",
            "_view_count": null,
            "flex_flow": null,
            "width": null,
            "min_width": null,
            "border": null,
            "align_items": null,
            "bottom": null,
            "_model_module": "@jupyter-widgets/base",
            "top": null,
            "grid_column": null,
            "overflow_y": null,
            "overflow_x": null,
            "grid_auto_flow": null,
            "grid_area": null,
            "grid_template_columns": null,
            "flex": null,
            "_model_name": "LayoutModel",
            "justify_items": null,
            "grid_row": null,
            "max_height": null,
            "align_content": null,
            "visibility": null,
            "align_self": null,
            "height": null,
            "min_height": null,
            "padding": null,
            "grid_auto_rows": null,
            "grid_gap": null,
            "max_width": null,
            "order": null,
            "_view_module_version": "1.2.0",
            "grid_template_areas": null,
            "object_position": null,
            "object_fit": null,
            "grid_auto_columns": null,
            "margin": null,
            "display": null,
            "left": null
          }
        },
        "21310f0994254b43960549a2beaa5b56": {
          "model_module": "@jupyter-widgets/controls",
          "model_name": "DescriptionStyleModel",
          "state": {
            "_view_name": "StyleView",
            "_model_name": "DescriptionStyleModel",
            "description_width": "",
            "_view_module": "@jupyter-widgets/base",
            "_model_module_version": "1.5.0",
            "_view_count": null,
            "_view_module_version": "1.2.0",
            "_model_module": "@jupyter-widgets/controls"
          }
        },
        "a44e1ad9bc4f499bbbe31839397fa299": {
          "model_module": "@jupyter-widgets/base",
          "model_name": "LayoutModel",
          "state": {
            "_view_name": "LayoutView",
            "grid_template_rows": null,
            "right": null,
            "justify_content": null,
            "_view_module": "@jupyter-widgets/base",
            "overflow": null,
            "_model_module_version": "1.2.0",
            "_view_count": null,
            "flex_flow": null,
            "width": null,
            "min_width": null,
            "border": null,
            "align_items": null,
            "bottom": null,
            "_model_module": "@jupyter-widgets/base",
            "top": null,
            "grid_column": null,
            "overflow_y": null,
            "overflow_x": null,
            "grid_auto_flow": null,
            "grid_area": null,
            "grid_template_columns": null,
            "flex": null,
            "_model_name": "LayoutModel",
            "justify_items": null,
            "grid_row": null,
            "max_height": null,
            "align_content": null,
            "visibility": null,
            "align_self": null,
            "height": null,
            "min_height": null,
            "padding": null,
            "grid_auto_rows": null,
            "grid_gap": null,
            "max_width": null,
            "order": null,
            "_view_module_version": "1.2.0",
            "grid_template_areas": null,
            "object_position": null,
            "object_fit": null,
            "grid_auto_columns": null,
            "margin": null,
            "display": null,
            "left": null
          }
        },
        "a8c8a4fde56642e6bcb961f762dbac4a": {
          "model_module": "@jupyter-widgets/controls",
          "model_name": "HBoxModel",
          "state": {
            "_view_name": "HBoxView",
            "_dom_classes": [],
            "_model_name": "HBoxModel",
            "_view_module": "@jupyter-widgets/controls",
            "_model_module_version": "1.5.0",
            "_view_count": null,
            "_view_module_version": "1.5.0",
            "box_style": "",
            "layout": "IPY_MODEL_11a6e4dca79f4edaa5e06cbaa9b01916",
            "_model_module": "@jupyter-widgets/controls",
            "children": [
              "IPY_MODEL_5dfa40038f43421a84d727697ba1352b",
              "IPY_MODEL_87a51d6337864b0b8955b49c0c763021"
            ]
          }
        },
        "11a6e4dca79f4edaa5e06cbaa9b01916": {
          "model_module": "@jupyter-widgets/base",
          "model_name": "LayoutModel",
          "state": {
            "_view_name": "LayoutView",
            "grid_template_rows": null,
            "right": null,
            "justify_content": null,
            "_view_module": "@jupyter-widgets/base",
            "overflow": null,
            "_model_module_version": "1.2.0",
            "_view_count": null,
            "flex_flow": null,
            "width": null,
            "min_width": null,
            "border": null,
            "align_items": null,
            "bottom": null,
            "_model_module": "@jupyter-widgets/base",
            "top": null,
            "grid_column": null,
            "overflow_y": null,
            "overflow_x": null,
            "grid_auto_flow": null,
            "grid_area": null,
            "grid_template_columns": null,
            "flex": null,
            "_model_name": "LayoutModel",
            "justify_items": null,
            "grid_row": null,
            "max_height": null,
            "align_content": null,
            "visibility": null,
            "align_self": null,
            "height": null,
            "min_height": null,
            "padding": null,
            "grid_auto_rows": null,
            "grid_gap": null,
            "max_width": null,
            "order": null,
            "_view_module_version": "1.2.0",
            "grid_template_areas": null,
            "object_position": null,
            "object_fit": null,
            "grid_auto_columns": null,
            "margin": null,
            "display": null,
            "left": null
          }
        },
        "5dfa40038f43421a84d727697ba1352b": {
          "model_module": "@jupyter-widgets/controls",
          "model_name": "FloatProgressModel",
          "state": {
            "_view_name": "ProgressView",
            "style": "IPY_MODEL_ae9d7725a1e847aea95455b13d23e2ba",
            "_dom_classes": [],
            "description": "Epoch 1:  72%",
            "_model_name": "FloatProgressModel",
            "bar_style": "",
            "max": 534,
            "_view_module": "@jupyter-widgets/controls",
            "_model_module_version": "1.5.0",
            "value": 387,
            "_view_count": null,
            "_view_module_version": "1.5.0",
            "orientation": "horizontal",
            "min": 0,
            "description_tooltip": null,
            "_model_module": "@jupyter-widgets/controls",
            "layout": "IPY_MODEL_d481a7ea72674c3d884bc94afcfe56e4"
          }
        },
        "87a51d6337864b0b8955b49c0c763021": {
          "model_module": "@jupyter-widgets/controls",
          "model_name": "HTMLModel",
          "state": {
            "_view_name": "HTMLView",
            "style": "IPY_MODEL_73ce5144cbcb4e11a91a38f86447da9c",
            "_dom_classes": [],
            "description": "",
            "_model_name": "HTMLModel",
            "placeholder": "​",
            "_view_module": "@jupyter-widgets/controls",
            "_model_module_version": "1.5.0",
            "value": " 387/534 [1:11:22&lt;29:14, 11.94s/it, training_loss=0.765]",
            "_view_count": null,
            "_view_module_version": "1.5.0",
            "description_tooltip": null,
            "_model_module": "@jupyter-widgets/controls",
            "layout": "IPY_MODEL_26ce3911bb5845749d4c7465ad2daf95"
          }
        },
        "ae9d7725a1e847aea95455b13d23e2ba": {
          "model_module": "@jupyter-widgets/controls",
          "model_name": "ProgressStyleModel",
          "state": {
            "_view_name": "StyleView",
            "_model_name": "ProgressStyleModel",
            "description_width": "initial",
            "_view_module": "@jupyter-widgets/base",
            "_model_module_version": "1.5.0",
            "_view_count": null,
            "_view_module_version": "1.2.0",
            "bar_color": null,
            "_model_module": "@jupyter-widgets/controls"
          }
        },
        "d481a7ea72674c3d884bc94afcfe56e4": {
          "model_module": "@jupyter-widgets/base",
          "model_name": "LayoutModel",
          "state": {
            "_view_name": "LayoutView",
            "grid_template_rows": null,
            "right": null,
            "justify_content": null,
            "_view_module": "@jupyter-widgets/base",
            "overflow": null,
            "_model_module_version": "1.2.0",
            "_view_count": null,
            "flex_flow": null,
            "width": null,
            "min_width": null,
            "border": null,
            "align_items": null,
            "bottom": null,
            "_model_module": "@jupyter-widgets/base",
            "top": null,
            "grid_column": null,
            "overflow_y": null,
            "overflow_x": null,
            "grid_auto_flow": null,
            "grid_area": null,
            "grid_template_columns": null,
            "flex": null,
            "_model_name": "LayoutModel",
            "justify_items": null,
            "grid_row": null,
            "max_height": null,
            "align_content": null,
            "visibility": null,
            "align_self": null,
            "height": null,
            "min_height": null,
            "padding": null,
            "grid_auto_rows": null,
            "grid_gap": null,
            "max_width": null,
            "order": null,
            "_view_module_version": "1.2.0",
            "grid_template_areas": null,
            "object_position": null,
            "object_fit": null,
            "grid_auto_columns": null,
            "margin": null,
            "display": null,
            "left": null
          }
        },
        "73ce5144cbcb4e11a91a38f86447da9c": {
          "model_module": "@jupyter-widgets/controls",
          "model_name": "DescriptionStyleModel",
          "state": {
            "_view_name": "StyleView",
            "_model_name": "DescriptionStyleModel",
            "description_width": "",
            "_view_module": "@jupyter-widgets/base",
            "_model_module_version": "1.5.0",
            "_view_count": null,
            "_view_module_version": "1.2.0",
            "_model_module": "@jupyter-widgets/controls"
          }
        },
        "26ce3911bb5845749d4c7465ad2daf95": {
          "model_module": "@jupyter-widgets/base",
          "model_name": "LayoutModel",
          "state": {
            "_view_name": "LayoutView",
            "grid_template_rows": null,
            "right": null,
            "justify_content": null,
            "_view_module": "@jupyter-widgets/base",
            "overflow": null,
            "_model_module_version": "1.2.0",
            "_view_count": null,
            "flex_flow": null,
            "width": null,
            "min_width": null,
            "border": null,
            "align_items": null,
            "bottom": null,
            "_model_module": "@jupyter-widgets/base",
            "top": null,
            "grid_column": null,
            "overflow_y": null,
            "overflow_x": null,
            "grid_auto_flow": null,
            "grid_area": null,
            "grid_template_columns": null,
            "flex": null,
            "_model_name": "LayoutModel",
            "justify_items": null,
            "grid_row": null,
            "max_height": null,
            "align_content": null,
            "visibility": null,
            "align_self": null,
            "height": null,
            "min_height": null,
            "padding": null,
            "grid_auto_rows": null,
            "grid_gap": null,
            "max_width": null,
            "order": null,
            "_view_module_version": "1.2.0",
            "grid_template_areas": null,
            "object_position": null,
            "object_fit": null,
            "grid_auto_columns": null,
            "margin": null,
            "display": null,
            "left": null
          }
        }
      }
    }
  },
  "cells": [
    {
      "cell_type": "markdown",
      "metadata": {
        "id": "view-in-github",
        "colab_type": "text"
      },
      "source": [
        "<a href=\"https://colab.research.google.com/github/fatemeh1377emamverdi/Data-Mining-Exercises--Code/blob/main/emamVerdi.ipynb\" target=\"_parent\"><img src=\"https://colab.research.google.com/assets/colab-badge.svg\" alt=\"Open In Colab\"/></a>"
      ]
    },
    {
      "cell_type": "markdown",
      "metadata": {
        "id": "SqfoSRwla4Tb"
      },
      "source": [
        "The Data\r\n",
        "Explore and Preprocess"
      ]
    },
    {
      "cell_type": "code",
      "metadata": {
        "colab": {
          "base_uri": "https://localhost:8080/"
        },
        "id": "owxD2F7udm-I",
        "outputId": "de3cbfc3-7cc3-4475-b7d1-55c4272eaecc"
      },
      "source": [
        "!pip install transformers"
      ],
      "execution_count": 6,
      "outputs": [
        {
          "output_type": "stream",
          "text": [
            "Collecting transformers\n",
            "\u001b[?25l  Downloading https://files.pythonhosted.org/packages/98/87/ef312eef26f5cecd8b17ae9654cdd8d1fae1eb6dbd87257d6d73c128a4d0/transformers-4.3.2-py3-none-any.whl (1.8MB)\n",
            "\r\u001b[K     |▏                               | 10kB 15.3MB/s eta 0:00:01\r\u001b[K     |▍                               | 20kB 16.8MB/s eta 0:00:01\r\u001b[K     |▌                               | 30kB 9.2MB/s eta 0:00:01\r\u001b[K     |▊                               | 40kB 7.3MB/s eta 0:00:01\r\u001b[K     |█                               | 51kB 4.4MB/s eta 0:00:01\r\u001b[K     |█                               | 61kB 5.0MB/s eta 0:00:01\r\u001b[K     |█▎                              | 71kB 5.0MB/s eta 0:00:01\r\u001b[K     |█▌                              | 81kB 5.3MB/s eta 0:00:01\r\u001b[K     |█▋                              | 92kB 5.6MB/s eta 0:00:01\r\u001b[K     |█▉                              | 102kB 5.7MB/s eta 0:00:01\r\u001b[K     |██                              | 112kB 5.7MB/s eta 0:00:01\r\u001b[K     |██▏                             | 122kB 5.7MB/s eta 0:00:01\r\u001b[K     |██▍                             | 133kB 5.7MB/s eta 0:00:01\r\u001b[K     |██▌                             | 143kB 5.7MB/s eta 0:00:01\r\u001b[K     |██▊                             | 153kB 5.7MB/s eta 0:00:01\r\u001b[K     |███                             | 163kB 5.7MB/s eta 0:00:01\r\u001b[K     |███                             | 174kB 5.7MB/s eta 0:00:01\r\u001b[K     |███▎                            | 184kB 5.7MB/s eta 0:00:01\r\u001b[K     |███▍                            | 194kB 5.7MB/s eta 0:00:01\r\u001b[K     |███▋                            | 204kB 5.7MB/s eta 0:00:01\r\u001b[K     |███▉                            | 215kB 5.7MB/s eta 0:00:01\r\u001b[K     |████                            | 225kB 5.7MB/s eta 0:00:01\r\u001b[K     |████▏                           | 235kB 5.7MB/s eta 0:00:01\r\u001b[K     |████▍                           | 245kB 5.7MB/s eta 0:00:01\r\u001b[K     |████▌                           | 256kB 5.7MB/s eta 0:00:01\r\u001b[K     |████▊                           | 266kB 5.7MB/s eta 0:00:01\r\u001b[K     |████▉                           | 276kB 5.7MB/s eta 0:00:01\r\u001b[K     |█████                           | 286kB 5.7MB/s eta 0:00:01\r\u001b[K     |█████▎                          | 296kB 5.7MB/s eta 0:00:01\r\u001b[K     |█████▍                          | 307kB 5.7MB/s eta 0:00:01\r\u001b[K     |█████▋                          | 317kB 5.7MB/s eta 0:00:01\r\u001b[K     |█████▉                          | 327kB 5.7MB/s eta 0:00:01\r\u001b[K     |██████                          | 337kB 5.7MB/s eta 0:00:01\r\u001b[K     |██████▏                         | 348kB 5.7MB/s eta 0:00:01\r\u001b[K     |██████▎                         | 358kB 5.7MB/s eta 0:00:01\r\u001b[K     |██████▌                         | 368kB 5.7MB/s eta 0:00:01\r\u001b[K     |██████▊                         | 378kB 5.7MB/s eta 0:00:01\r\u001b[K     |██████▉                         | 389kB 5.7MB/s eta 0:00:01\r\u001b[K     |███████                         | 399kB 5.7MB/s eta 0:00:01\r\u001b[K     |███████▎                        | 409kB 5.7MB/s eta 0:00:01\r\u001b[K     |███████▍                        | 419kB 5.7MB/s eta 0:00:01\r\u001b[K     |███████▋                        | 430kB 5.7MB/s eta 0:00:01\r\u001b[K     |███████▉                        | 440kB 5.7MB/s eta 0:00:01\r\u001b[K     |████████                        | 450kB 5.7MB/s eta 0:00:01\r\u001b[K     |████████▏                       | 460kB 5.7MB/s eta 0:00:01\r\u001b[K     |████████▎                       | 471kB 5.7MB/s eta 0:00:01\r\u001b[K     |████████▌                       | 481kB 5.7MB/s eta 0:00:01\r\u001b[K     |████████▊                       | 491kB 5.7MB/s eta 0:00:01\r\u001b[K     |████████▉                       | 501kB 5.7MB/s eta 0:00:01\r\u001b[K     |█████████                       | 512kB 5.7MB/s eta 0:00:01\r\u001b[K     |█████████▎                      | 522kB 5.7MB/s eta 0:00:01\r\u001b[K     |█████████▍                      | 532kB 5.7MB/s eta 0:00:01\r\u001b[K     |█████████▋                      | 542kB 5.7MB/s eta 0:00:01\r\u001b[K     |█████████▊                      | 552kB 5.7MB/s eta 0:00:01\r\u001b[K     |██████████                      | 563kB 5.7MB/s eta 0:00:01\r\u001b[K     |██████████▏                     | 573kB 5.7MB/s eta 0:00:01\r\u001b[K     |██████████▎                     | 583kB 5.7MB/s eta 0:00:01\r\u001b[K     |██████████▌                     | 593kB 5.7MB/s eta 0:00:01\r\u001b[K     |██████████▊                     | 604kB 5.7MB/s eta 0:00:01\r\u001b[K     |██████████▉                     | 614kB 5.7MB/s eta 0:00:01\r\u001b[K     |███████████                     | 624kB 5.7MB/s eta 0:00:01\r\u001b[K     |███████████▏                    | 634kB 5.7MB/s eta 0:00:01\r\u001b[K     |███████████▍                    | 645kB 5.7MB/s eta 0:00:01\r\u001b[K     |███████████▋                    | 655kB 5.7MB/s eta 0:00:01\r\u001b[K     |███████████▊                    | 665kB 5.7MB/s eta 0:00:01\r\u001b[K     |████████████                    | 675kB 5.7MB/s eta 0:00:01\r\u001b[K     |████████████▏                   | 686kB 5.7MB/s eta 0:00:01\r\u001b[K     |████████████▎                   | 696kB 5.7MB/s eta 0:00:01\r\u001b[K     |████████████▌                   | 706kB 5.7MB/s eta 0:00:01\r\u001b[K     |████████████▋                   | 716kB 5.7MB/s eta 0:00:01\r\u001b[K     |████████████▉                   | 727kB 5.7MB/s eta 0:00:01\r\u001b[K     |█████████████                   | 737kB 5.7MB/s eta 0:00:01\r\u001b[K     |█████████████▏                  | 747kB 5.7MB/s eta 0:00:01\r\u001b[K     |█████████████▍                  | 757kB 5.7MB/s eta 0:00:01\r\u001b[K     |█████████████▋                  | 768kB 5.7MB/s eta 0:00:01\r\u001b[K     |█████████████▊                  | 778kB 5.7MB/s eta 0:00:01\r\u001b[K     |██████████████                  | 788kB 5.7MB/s eta 0:00:01\r\u001b[K     |██████████████▏                 | 798kB 5.7MB/s eta 0:00:01\r\u001b[K     |██████████████▎                 | 808kB 5.7MB/s eta 0:00:01\r\u001b[K     |██████████████▌                 | 819kB 5.7MB/s eta 0:00:01\r\u001b[K     |██████████████▋                 | 829kB 5.7MB/s eta 0:00:01\r\u001b[K     |██████████████▉                 | 839kB 5.7MB/s eta 0:00:01\r\u001b[K     |███████████████                 | 849kB 5.7MB/s eta 0:00:01\r\u001b[K     |███████████████▏                | 860kB 5.7MB/s eta 0:00:01\r\u001b[K     |███████████████▍                | 870kB 5.7MB/s eta 0:00:01\r\u001b[K     |███████████████▋                | 880kB 5.7MB/s eta 0:00:01\r\u001b[K     |███████████████▊                | 890kB 5.7MB/s eta 0:00:01\r\u001b[K     |████████████████                | 901kB 5.7MB/s eta 0:00:01\r\u001b[K     |████████████████                | 911kB 5.7MB/s eta 0:00:01\r\u001b[K     |████████████████▎               | 921kB 5.7MB/s eta 0:00:01\r\u001b[K     |████████████████▌               | 931kB 5.7MB/s eta 0:00:01\r\u001b[K     |████████████████▋               | 942kB 5.7MB/s eta 0:00:01\r\u001b[K     |████████████████▉               | 952kB 5.7MB/s eta 0:00:01\r\u001b[K     |█████████████████               | 962kB 5.7MB/s eta 0:00:01\r\u001b[K     |█████████████████▏              | 972kB 5.7MB/s eta 0:00:01\r\u001b[K     |█████████████████▍              | 983kB 5.7MB/s eta 0:00:01\r\u001b[K     |█████████████████▌              | 993kB 5.7MB/s eta 0:00:01\r\u001b[K     |█████████████████▊              | 1.0MB 5.7MB/s eta 0:00:01\r\u001b[K     |██████████████████              | 1.0MB 5.7MB/s eta 0:00:01\r\u001b[K     |██████████████████              | 1.0MB 5.7MB/s eta 0:00:01\r\u001b[K     |██████████████████▎             | 1.0MB 5.7MB/s eta 0:00:01\r\u001b[K     |██████████████████▌             | 1.0MB 5.7MB/s eta 0:00:01\r\u001b[K     |██████████████████▋             | 1.1MB 5.7MB/s eta 0:00:01\r\u001b[K     |██████████████████▉             | 1.1MB 5.7MB/s eta 0:00:01\r\u001b[K     |███████████████████             | 1.1MB 5.7MB/s eta 0:00:01\r\u001b[K     |███████████████████▏            | 1.1MB 5.7MB/s eta 0:00:01\r\u001b[K     |███████████████████▍            | 1.1MB 5.7MB/s eta 0:00:01\r\u001b[K     |███████████████████▌            | 1.1MB 5.7MB/s eta 0:00:01\r\u001b[K     |███████████████████▊            | 1.1MB 5.7MB/s eta 0:00:01\r\u001b[K     |████████████████████            | 1.1MB 5.7MB/s eta 0:00:01\r\u001b[K     |████████████████████            | 1.1MB 5.7MB/s eta 0:00:01\r\u001b[K     |████████████████████▎           | 1.1MB 5.7MB/s eta 0:00:01\r\u001b[K     |████████████████████▌           | 1.2MB 5.7MB/s eta 0:00:01\r\u001b[K     |████████████████████▋           | 1.2MB 5.7MB/s eta 0:00:01\r\u001b[K     |████████████████████▉           | 1.2MB 5.7MB/s eta 0:00:01\r\u001b[K     |█████████████████████           | 1.2MB 5.7MB/s eta 0:00:01\r\u001b[K     |█████████████████████▏          | 1.2MB 5.7MB/s eta 0:00:01\r\u001b[K     |█████████████████████▍          | 1.2MB 5.7MB/s eta 0:00:01\r\u001b[K     |█████████████████████▌          | 1.2MB 5.7MB/s eta 0:00:01\r\u001b[K     |█████████████████████▊          | 1.2MB 5.7MB/s eta 0:00:01\r\u001b[K     |██████████████████████          | 1.2MB 5.7MB/s eta 0:00:01\r\u001b[K     |██████████████████████          | 1.2MB 5.7MB/s eta 0:00:01\r\u001b[K     |██████████████████████▎         | 1.3MB 5.7MB/s eta 0:00:01\r\u001b[K     |██████████████████████▍         | 1.3MB 5.7MB/s eta 0:00:01\r\u001b[K     |██████████████████████▋         | 1.3MB 5.7MB/s eta 0:00:01\r\u001b[K     |██████████████████████▉         | 1.3MB 5.7MB/s eta 0:00:01\r\u001b[K     |███████████████████████         | 1.3MB 5.7MB/s eta 0:00:01\r\u001b[K     |███████████████████████▏        | 1.3MB 5.7MB/s eta 0:00:01\r\u001b[K     |███████████████████████▍        | 1.3MB 5.7MB/s eta 0:00:01\r\u001b[K     |███████████████████████▌        | 1.3MB 5.7MB/s eta 0:00:01\r\u001b[K     |███████████████████████▊        | 1.3MB 5.7MB/s eta 0:00:01\r\u001b[K     |███████████████████████▉        | 1.4MB 5.7MB/s eta 0:00:01\r\u001b[K     |████████████████████████        | 1.4MB 5.7MB/s eta 0:00:01\r\u001b[K     |████████████████████████▎       | 1.4MB 5.7MB/s eta 0:00:01\r\u001b[K     |████████████████████████▍       | 1.4MB 5.7MB/s eta 0:00:01\r\u001b[K     |████████████████████████▋       | 1.4MB 5.7MB/s eta 0:00:01\r\u001b[K     |████████████████████████▉       | 1.4MB 5.7MB/s eta 0:00:01\r\u001b[K     |█████████████████████████       | 1.4MB 5.7MB/s eta 0:00:01\r\u001b[K     |█████████████████████████▏      | 1.4MB 5.7MB/s eta 0:00:01\r\u001b[K     |█████████████████████████▎      | 1.4MB 5.7MB/s eta 0:00:01\r\u001b[K     |█████████████████████████▌      | 1.4MB 5.7MB/s eta 0:00:01\r\u001b[K     |█████████████████████████▊      | 1.5MB 5.7MB/s eta 0:00:01\r\u001b[K     |█████████████████████████▉      | 1.5MB 5.7MB/s eta 0:00:01\r\u001b[K     |██████████████████████████      | 1.5MB 5.7MB/s eta 0:00:01\r\u001b[K     |██████████████████████████▎     | 1.5MB 5.7MB/s eta 0:00:01\r\u001b[K     |██████████████████████████▍     | 1.5MB 5.7MB/s eta 0:00:01\r\u001b[K     |██████████████████████████▋     | 1.5MB 5.7MB/s eta 0:00:01\r\u001b[K     |██████████████████████████▉     | 1.5MB 5.7MB/s eta 0:00:01\r\u001b[K     |███████████████████████████     | 1.5MB 5.7MB/s eta 0:00:01\r\u001b[K     |███████████████████████████▏    | 1.5MB 5.7MB/s eta 0:00:01\r\u001b[K     |███████████████████████████▎    | 1.5MB 5.7MB/s eta 0:00:01\r\u001b[K     |███████████████████████████▌    | 1.6MB 5.7MB/s eta 0:00:01\r\u001b[K     |███████████████████████████▊    | 1.6MB 5.7MB/s eta 0:00:01\r\u001b[K     |███████████████████████████▉    | 1.6MB 5.7MB/s eta 0:00:01\r\u001b[K     |████████████████████████████    | 1.6MB 5.7MB/s eta 0:00:01\r\u001b[K     |████████████████████████████▎   | 1.6MB 5.7MB/s eta 0:00:01\r\u001b[K     |████████████████████████████▍   | 1.6MB 5.7MB/s eta 0:00:01\r\u001b[K     |████████████████████████████▋   | 1.6MB 5.7MB/s eta 0:00:01\r\u001b[K     |████████████████████████████▊   | 1.6MB 5.7MB/s eta 0:00:01\r\u001b[K     |█████████████████████████████   | 1.6MB 5.7MB/s eta 0:00:01\r\u001b[K     |█████████████████████████████▏  | 1.6MB 5.7MB/s eta 0:00:01\r\u001b[K     |█████████████████████████████▎  | 1.7MB 5.7MB/s eta 0:00:01\r\u001b[K     |█████████████████████████████▌  | 1.7MB 5.7MB/s eta 0:00:01\r\u001b[K     |█████████████████████████████▊  | 1.7MB 5.7MB/s eta 0:00:01\r\u001b[K     |█████████████████████████████▉  | 1.7MB 5.7MB/s eta 0:00:01\r\u001b[K     |██████████████████████████████  | 1.7MB 5.7MB/s eta 0:00:01\r\u001b[K     |██████████████████████████████▏ | 1.7MB 5.7MB/s eta 0:00:01\r\u001b[K     |██████████████████████████████▍ | 1.7MB 5.7MB/s eta 0:00:01\r\u001b[K     |██████████████████████████████▋ | 1.7MB 5.7MB/s eta 0:00:01\r\u001b[K     |██████████████████████████████▊ | 1.7MB 5.7MB/s eta 0:00:01\r\u001b[K     |███████████████████████████████ | 1.8MB 5.7MB/s eta 0:00:01\r\u001b[K     |███████████████████████████████▏| 1.8MB 5.7MB/s eta 0:00:01\r\u001b[K     |███████████████████████████████▎| 1.8MB 5.7MB/s eta 0:00:01\r\u001b[K     |███████████████████████████████▌| 1.8MB 5.7MB/s eta 0:00:01\r\u001b[K     |███████████████████████████████▋| 1.8MB 5.7MB/s eta 0:00:01\r\u001b[K     |███████████████████████████████▉| 1.8MB 5.7MB/s eta 0:00:01\r\u001b[K     |████████████████████████████████| 1.8MB 5.7MB/s \n",
            "\u001b[?25hRequirement already satisfied: importlib-metadata; python_version < \"3.8\" in /usr/local/lib/python3.6/dist-packages (from transformers) (3.4.0)\n",
            "Requirement already satisfied: numpy>=1.17 in /usr/local/lib/python3.6/dist-packages (from transformers) (1.19.5)\n",
            "Collecting tokenizers<0.11,>=0.10.1\n",
            "\u001b[?25l  Downloading https://files.pythonhosted.org/packages/fd/5b/44baae602e0a30bcc53fbdbc60bd940c15e143d252d658dfdefce736ece5/tokenizers-0.10.1-cp36-cp36m-manylinux2010_x86_64.whl (3.2MB)\n",
            "\u001b[K     |████████████████████████████████| 3.2MB 38.9MB/s \n",
            "\u001b[?25hCollecting sacremoses\n",
            "\u001b[?25l  Downloading https://files.pythonhosted.org/packages/7d/34/09d19aff26edcc8eb2a01bed8e98f13a1537005d31e95233fd48216eed10/sacremoses-0.0.43.tar.gz (883kB)\n",
            "\u001b[K     |████████████████████████████████| 890kB 41.8MB/s \n",
            "\u001b[?25hRequirement already satisfied: dataclasses; python_version < \"3.7\" in /usr/local/lib/python3.6/dist-packages (from transformers) (0.8)\n",
            "Requirement already satisfied: regex!=2019.12.17 in /usr/local/lib/python3.6/dist-packages (from transformers) (2019.12.20)\n",
            "Requirement already satisfied: filelock in /usr/local/lib/python3.6/dist-packages (from transformers) (3.0.12)\n",
            "Requirement already satisfied: requests in /usr/local/lib/python3.6/dist-packages (from transformers) (2.23.0)\n",
            "Requirement already satisfied: tqdm>=4.27 in /usr/local/lib/python3.6/dist-packages (from transformers) (4.41.1)\n",
            "Requirement already satisfied: packaging in /usr/local/lib/python3.6/dist-packages (from transformers) (20.9)\n",
            "Requirement already satisfied: typing-extensions>=3.6.4; python_version < \"3.8\" in /usr/local/lib/python3.6/dist-packages (from importlib-metadata; python_version < \"3.8\"->transformers) (3.7.4.3)\n",
            "Requirement already satisfied: zipp>=0.5 in /usr/local/lib/python3.6/dist-packages (from importlib-metadata; python_version < \"3.8\"->transformers) (3.4.0)\n",
            "Requirement already satisfied: six in /usr/local/lib/python3.6/dist-packages (from sacremoses->transformers) (1.15.0)\n",
            "Requirement already satisfied: click in /usr/local/lib/python3.6/dist-packages (from sacremoses->transformers) (7.1.2)\n",
            "Requirement already satisfied: joblib in /usr/local/lib/python3.6/dist-packages (from sacremoses->transformers) (1.0.0)\n",
            "Requirement already satisfied: certifi>=2017.4.17 in /usr/local/lib/python3.6/dist-packages (from requests->transformers) (2020.12.5)\n",
            "Requirement already satisfied: idna<3,>=2.5 in /usr/local/lib/python3.6/dist-packages (from requests->transformers) (2.10)\n",
            "Requirement already satisfied: urllib3!=1.25.0,!=1.25.1,<1.26,>=1.21.1 in /usr/local/lib/python3.6/dist-packages (from requests->transformers) (1.24.3)\n",
            "Requirement already satisfied: chardet<4,>=3.0.2 in /usr/local/lib/python3.6/dist-packages (from requests->transformers) (3.0.4)\n",
            "Requirement already satisfied: pyparsing>=2.0.2 in /usr/local/lib/python3.6/dist-packages (from packaging->transformers) (2.4.7)\n",
            "Building wheels for collected packages: sacremoses\n",
            "  Building wheel for sacremoses (setup.py) ... \u001b[?25l\u001b[?25hdone\n",
            "  Created wheel for sacremoses: filename=sacremoses-0.0.43-cp36-none-any.whl size=893261 sha256=b1bb7741d173581e0f6204f8ef8712feafb7c7edc934af1bb97cc9719d31aa7c\n",
            "  Stored in directory: /root/.cache/pip/wheels/29/3c/fd/7ce5c3f0666dab31a50123635e6fb5e19ceb42ce38d4e58f45\n",
            "Successfully built sacremoses\n",
            "Installing collected packages: tokenizers, sacremoses, transformers\n",
            "Successfully installed sacremoses-0.0.43 tokenizers-0.10.1 transformers-4.3.2\n"
          ],
          "name": "stdout"
        }
      ]
    },
    {
      "cell_type": "code",
      "metadata": {
        "id": "gwiM1JBDqWC3"
      },
      "source": [
        "import torch\r\n",
        "from tqdm.notebook import tqdm\r\n",
        "import pandas as pd\r\n",
        "from transformers import BertTokenizer\r\n",
        "from torch.utils.data import TensorDataset\r\n",
        "\r\n",
        "from transformers import BertForSequenceClassification\r\n",
        "\r\n"
      ],
      "execution_count": 7,
      "outputs": []
    },
    {
      "cell_type": "code",
      "metadata": {
        "id": "lBvGCflIaQYB"
      },
      "source": [
        "#df = pd.read_excel('/content/dk-comment.xlsx')\r\n",
        "df = pd.read_excel('/content/dk-comment.xlsx')\r\n",
        "\r\n",
        "df.head()"
      ],
      "execution_count": null,
      "outputs": []
    },
    {
      "cell_type": "code",
      "metadata": {
        "colab": {
          "base_uri": "https://localhost:8080/"
        },
        "id": "UWqgNbFVac54",
        "outputId": "a6a8787b-404d-4314-d766-ca8768154179"
      },
      "source": [
        "df['Label'].value_counts()"
      ],
      "execution_count": 9,
      "outputs": [
        {
          "output_type": "execute_result",
          "data": {
            "text/plain": [
              "U0001F61D    563\n",
              "U0001F929    393\n",
              "U0001F47B    241\n",
              "U0001F60F    225\n",
              "U0001F92F    192\n",
              "U0001F606    153\n",
              "U0001F92C     74\n",
              "U0001F637     73\n",
              "U0001F616     50\n",
              "U0001F62E     36\n",
              "Name: Label, dtype: int64"
            ]
          },
          "metadata": {
            "tags": []
          },
          "execution_count": 9
        }
      ]
    },
    {
      "cell_type": "markdown",
      "metadata": {
        "id": "7Xp4QEGPaxXn"
      },
      "source": [
        "Encoding the Labels"
      ]
    },
    {
      "cell_type": "code",
      "metadata": {
        "colab": {
          "base_uri": "https://localhost:8080/"
        },
        "id": "LWcjfF_1auTC",
        "outputId": "766d1738-91eb-476c-fe25-0027386cf709"
      },
      "source": [
        "possible_labels = df.Label.unique()\r\n",
        "\r\n",
        "label_dict = {}\r\n",
        "for index, possible_label in enumerate(possible_labels):\r\n",
        "    label_dict[possible_label] = index\r\n",
        "label_dict"
      ],
      "execution_count": 10,
      "outputs": [
        {
          "output_type": "execute_result",
          "data": {
            "text/plain": [
              "{'U0001F47B': 3,\n",
              " 'U0001F606': 8,\n",
              " 'U0001F60F': 2,\n",
              " 'U0001F616': 9,\n",
              " 'U0001F61D': 0,\n",
              " 'U0001F62E': 5,\n",
              " 'U0001F637': 7,\n",
              " 'U0001F929': 1,\n",
              " 'U0001F92C': 6,\n",
              " 'U0001F92F': 4}"
            ]
          },
          "metadata": {
            "tags": []
          },
          "execution_count": 10
        }
      ]
    },
    {
      "cell_type": "code",
      "metadata": {
        "id": "ZgkiBfLTbHdN"
      },
      "source": [
        "df['label'] = df.Label.replace(label_dict)"
      ],
      "execution_count": 11,
      "outputs": []
    },
    {
      "cell_type": "code",
      "metadata": {
        "colab": {
          "base_uri": "https://localhost:8080/",
          "height": 700
        },
        "id": "adcNa_3wbOB8",
        "outputId": "ddb22142-1b87-4fd3-d001-937c4924057d"
      },
      "source": [
        "from sklearn.model_selection import train_test_split\r\n",
        "\r\n",
        "X_train, X_val, y_train, y_val = train_test_split(df.index.values, \r\n",
        "                                                  df.label.values, \r\n",
        "                                                  test_size=0.2, \r\n",
        "                                                  random_state=42)\r\n",
        "\r\n",
        "df['data_type'] = ['not_set']*df.shape[0]\r\n",
        "\r\n",
        "df.loc[X_train, 'data_type'] = 'train'\r\n",
        "df.loc[X_val, 'data_type'] = 'val'\r\n",
        "\r\n",
        "df.groupby(['Label', 'label', 'data_type']).count()"
      ],
      "execution_count": 12,
      "outputs": [
        {
          "output_type": "execute_result",
          "data": {
            "text/html": [
              "<div>\n",
              "<style scoped>\n",
              "    .dataframe tbody tr th:only-of-type {\n",
              "        vertical-align: middle;\n",
              "    }\n",
              "\n",
              "    .dataframe tbody tr th {\n",
              "        vertical-align: top;\n",
              "    }\n",
              "\n",
              "    .dataframe thead th {\n",
              "        text-align: right;\n",
              "    }\n",
              "</style>\n",
              "<table border=\"1\" class=\"dataframe\">\n",
              "  <thead>\n",
              "    <tr style=\"text-align: right;\">\n",
              "      <th></th>\n",
              "      <th></th>\n",
              "      <th></th>\n",
              "      <th>Unnamed: 0</th>\n",
              "      <th>confirmed_at</th>\n",
              "      <th>comment</th>\n",
              "    </tr>\n",
              "    <tr>\n",
              "      <th>Label</th>\n",
              "      <th>label</th>\n",
              "      <th>data_type</th>\n",
              "      <th></th>\n",
              "      <th></th>\n",
              "      <th></th>\n",
              "    </tr>\n",
              "  </thead>\n",
              "  <tbody>\n",
              "    <tr>\n",
              "      <th rowspan=\"2\" valign=\"top\">U0001F47B</th>\n",
              "      <th rowspan=\"2\" valign=\"top\">3</th>\n",
              "      <th>train</th>\n",
              "      <td>185</td>\n",
              "      <td>185</td>\n",
              "      <td>185</td>\n",
              "    </tr>\n",
              "    <tr>\n",
              "      <th>val</th>\n",
              "      <td>56</td>\n",
              "      <td>56</td>\n",
              "      <td>56</td>\n",
              "    </tr>\n",
              "    <tr>\n",
              "      <th rowspan=\"2\" valign=\"top\">U0001F606</th>\n",
              "      <th rowspan=\"2\" valign=\"top\">8</th>\n",
              "      <th>train</th>\n",
              "      <td>118</td>\n",
              "      <td>118</td>\n",
              "      <td>118</td>\n",
              "    </tr>\n",
              "    <tr>\n",
              "      <th>val</th>\n",
              "      <td>35</td>\n",
              "      <td>35</td>\n",
              "      <td>35</td>\n",
              "    </tr>\n",
              "    <tr>\n",
              "      <th rowspan=\"2\" valign=\"top\">U0001F60F</th>\n",
              "      <th rowspan=\"2\" valign=\"top\">2</th>\n",
              "      <th>train</th>\n",
              "      <td>183</td>\n",
              "      <td>183</td>\n",
              "      <td>183</td>\n",
              "    </tr>\n",
              "    <tr>\n",
              "      <th>val</th>\n",
              "      <td>42</td>\n",
              "      <td>42</td>\n",
              "      <td>42</td>\n",
              "    </tr>\n",
              "    <tr>\n",
              "      <th rowspan=\"2\" valign=\"top\">U0001F616</th>\n",
              "      <th rowspan=\"2\" valign=\"top\">9</th>\n",
              "      <th>train</th>\n",
              "      <td>40</td>\n",
              "      <td>40</td>\n",
              "      <td>40</td>\n",
              "    </tr>\n",
              "    <tr>\n",
              "      <th>val</th>\n",
              "      <td>10</td>\n",
              "      <td>10</td>\n",
              "      <td>10</td>\n",
              "    </tr>\n",
              "    <tr>\n",
              "      <th rowspan=\"2\" valign=\"top\">U0001F61D</th>\n",
              "      <th rowspan=\"2\" valign=\"top\">0</th>\n",
              "      <th>train</th>\n",
              "      <td>449</td>\n",
              "      <td>449</td>\n",
              "      <td>449</td>\n",
              "    </tr>\n",
              "    <tr>\n",
              "      <th>val</th>\n",
              "      <td>114</td>\n",
              "      <td>114</td>\n",
              "      <td>114</td>\n",
              "    </tr>\n",
              "    <tr>\n",
              "      <th rowspan=\"2\" valign=\"top\">U0001F62E</th>\n",
              "      <th rowspan=\"2\" valign=\"top\">5</th>\n",
              "      <th>train</th>\n",
              "      <td>26</td>\n",
              "      <td>26</td>\n",
              "      <td>26</td>\n",
              "    </tr>\n",
              "    <tr>\n",
              "      <th>val</th>\n",
              "      <td>10</td>\n",
              "      <td>10</td>\n",
              "      <td>10</td>\n",
              "    </tr>\n",
              "    <tr>\n",
              "      <th rowspan=\"2\" valign=\"top\">U0001F637</th>\n",
              "      <th rowspan=\"2\" valign=\"top\">7</th>\n",
              "      <th>train</th>\n",
              "      <td>61</td>\n",
              "      <td>61</td>\n",
              "      <td>61</td>\n",
              "    </tr>\n",
              "    <tr>\n",
              "      <th>val</th>\n",
              "      <td>12</td>\n",
              "      <td>12</td>\n",
              "      <td>12</td>\n",
              "    </tr>\n",
              "    <tr>\n",
              "      <th rowspan=\"2\" valign=\"top\">U0001F929</th>\n",
              "      <th rowspan=\"2\" valign=\"top\">1</th>\n",
              "      <th>train</th>\n",
              "      <td>330</td>\n",
              "      <td>330</td>\n",
              "      <td>330</td>\n",
              "    </tr>\n",
              "    <tr>\n",
              "      <th>val</th>\n",
              "      <td>63</td>\n",
              "      <td>63</td>\n",
              "      <td>63</td>\n",
              "    </tr>\n",
              "    <tr>\n",
              "      <th rowspan=\"2\" valign=\"top\">U0001F92C</th>\n",
              "      <th rowspan=\"2\" valign=\"top\">6</th>\n",
              "      <th>train</th>\n",
              "      <td>53</td>\n",
              "      <td>53</td>\n",
              "      <td>53</td>\n",
              "    </tr>\n",
              "    <tr>\n",
              "      <th>val</th>\n",
              "      <td>21</td>\n",
              "      <td>21</td>\n",
              "      <td>21</td>\n",
              "    </tr>\n",
              "    <tr>\n",
              "      <th rowspan=\"2\" valign=\"top\">U0001F92F</th>\n",
              "      <th rowspan=\"2\" valign=\"top\">4</th>\n",
              "      <th>train</th>\n",
              "      <td>155</td>\n",
              "      <td>155</td>\n",
              "      <td>155</td>\n",
              "    </tr>\n",
              "    <tr>\n",
              "      <th>val</th>\n",
              "      <td>37</td>\n",
              "      <td>37</td>\n",
              "      <td>37</td>\n",
              "    </tr>\n",
              "  </tbody>\n",
              "</table>\n",
              "</div>"
            ],
            "text/plain": [
              "                           Unnamed: 0  confirmed_at  comment\n",
              "Label     label data_type                                   \n",
              "U0001F47B 3     train             185           185      185\n",
              "                val                56            56       56\n",
              "U0001F606 8     train             118           118      118\n",
              "                val                35            35       35\n",
              "U0001F60F 2     train             183           183      183\n",
              "                val                42            42       42\n",
              "U0001F616 9     train              40            40       40\n",
              "                val                10            10       10\n",
              "U0001F61D 0     train             449           449      449\n",
              "                val               114           114      114\n",
              "U0001F62E 5     train              26            26       26\n",
              "                val                10            10       10\n",
              "U0001F637 7     train              61            61       61\n",
              "                val                12            12       12\n",
              "U0001F929 1     train             330           330      330\n",
              "                val                63            63       63\n",
              "U0001F92C 6     train              53            53       53\n",
              "                val                21            21       21\n",
              "U0001F92F 4     train             155           155      155\n",
              "                val                37            37       37"
            ]
          },
          "metadata": {
            "tags": []
          },
          "execution_count": 12
        }
      ]
    },
    {
      "cell_type": "markdown",
      "metadata": {
        "id": "_E8mnBEXcFbD"
      },
      "source": [
        "BertTokenizer and Encoding the Data"
      ]
    },
    {
      "cell_type": "code",
      "metadata": {
        "colab": {
          "base_uri": "https://localhost:8080/",
          "height": 137,
          "referenced_widgets": [
            "e0d2611f0bb741a59e926aef1ebdc3a5",
            "81599aaf2c3b446db41d8d1d63abc336",
            "87602a02986f4177bf4cd1bd1ce3d07f",
            "b90cadc0dd854c9baf02444e0ea4bf3f",
            "f2f83aec27884c7fb84154abec248611",
            "426fe1816e6e414092315353bcc4ba1f",
            "33d0bece38244594b13ecff78d80c34c",
            "102111e1d5b64988a1fbd55f1ba223c0"
          ]
        },
        "id": "8Q6LlJ5ObdsR",
        "outputId": "4924445c-b706-44c5-e930-14b7e8ebf259"
      },
      "source": [
        "tokenizer = BertTokenizer.from_pretrained('bert-base-uncased', \r\n",
        "                                          do_lower_case=True)\r\n",
        "                                          \r\n",
        "encoded_data_train = tokenizer.batch_encode_plus(\r\n",
        "    df[df.data_type=='train'].comment.values, \r\n",
        "    add_special_tokens=True, \r\n",
        "    return_attention_mask=True, \r\n",
        "    pad_to_max_length=True, \r\n",
        "    max_length=256, \r\n",
        "    return_tensors='pt'\r\n",
        ")"
      ],
      "execution_count": 13,
      "outputs": [
        {
          "output_type": "display_data",
          "data": {
            "application/vnd.jupyter.widget-view+json": {
              "model_id": "e0d2611f0bb741a59e926aef1ebdc3a5",
              "version_minor": 0,
              "version_major": 2
            },
            "text/plain": [
              "HBox(children=(FloatProgress(value=0.0, description='Downloading', max=231508.0, style=ProgressStyle(descripti…"
            ]
          },
          "metadata": {
            "tags": []
          }
        },
        {
          "output_type": "stream",
          "text": [
            "Truncation was not explicitly activated but `max_length` is provided a specific value, please use `truncation=True` to explicitly truncate examples to max length. Defaulting to 'longest_first' truncation strategy. If you encode pairs of sequences (GLUE-style) with the tokenizer you can select this strategy more precisely by providing a specific strategy to `truncation`.\n"
          ],
          "name": "stderr"
        },
        {
          "output_type": "stream",
          "text": [
            "\n"
          ],
          "name": "stdout"
        },
        {
          "output_type": "stream",
          "text": [
            "/usr/local/lib/python3.6/dist-packages/transformers/tokenization_utils_base.py:2155: FutureWarning: The `pad_to_max_length` argument is deprecated and will be removed in a future version, use `padding=True` or `padding='longest'` to pad to the longest sequence in the batch, or use `padding='max_length'` to pad to a max length. In this case, you can give a specific length with `max_length` (e.g. `max_length=45`) or leave max_length to None to pad to the maximal input size of the model (e.g. 512 for Bert).\n",
            "  FutureWarning,\n"
          ],
          "name": "stderr"
        }
      ]
    },
    {
      "cell_type": "code",
      "metadata": {
        "id": "H5oGjDFib7XS"
      },
      "source": [
        "input_ids_train = encoded_data_train['input_ids']\r\n",
        "attention_masks_train = encoded_data_train['attention_mask']\r\n",
        "labels_train = torch.tensor(df[df.data_type=='train'].label.values)\r\n"
      ],
      "execution_count": 14,
      "outputs": []
    },
    {
      "cell_type": "code",
      "metadata": {
        "colab": {
          "base_uri": "https://localhost:8080/"
        },
        "id": "SW9iXZ2CbzjX",
        "outputId": "df295017-3afa-4623-e58d-dae4bd92b818"
      },
      "source": [
        "encoded_data_val = tokenizer.batch_encode_plus(\r\n",
        "    df[df.data_type=='val'].comment.values, \r\n",
        "    add_special_tokens=True, \r\n",
        "    return_attention_mask=True, \r\n",
        "    pad_to_max_length=True, \r\n",
        "    max_length=256, \r\n",
        "    return_tensors='pt'\r\n",
        ")"
      ],
      "execution_count": 15,
      "outputs": [
        {
          "output_type": "stream",
          "text": [
            "/usr/local/lib/python3.6/dist-packages/transformers/tokenization_utils_base.py:2155: FutureWarning: The `pad_to_max_length` argument is deprecated and will be removed in a future version, use `padding=True` or `padding='longest'` to pad to the longest sequence in the batch, or use `padding='max_length'` to pad to a max length. In this case, you can give a specific length with `max_length` (e.g. `max_length=45`) or leave max_length to None to pad to the maximal input size of the model (e.g. 512 for Bert).\n",
            "  FutureWarning,\n"
          ],
          "name": "stderr"
        }
      ]
    },
    {
      "cell_type": "code",
      "metadata": {
        "id": "FXylhzwPb9il"
      },
      "source": [
        "input_ids_val = encoded_data_val['input_ids']\r\n",
        "attention_masks_val = encoded_data_val['attention_mask']\r\n",
        "labels_val = torch.tensor(df[df.data_type=='val'].label.values)\r\n"
      ],
      "execution_count": 16,
      "outputs": []
    },
    {
      "cell_type": "code",
      "metadata": {
        "id": "72EqVUA7bv9w"
      },
      "source": [
        "dataset_train = TensorDataset(input_ids_train, attention_masks_train, labels_train)\r\n",
        "dataset_val = TensorDataset(input_ids_val, attention_masks_val, labels_val)"
      ],
      "execution_count": 17,
      "outputs": []
    },
    {
      "cell_type": "markdown",
      "metadata": {
        "id": "GpOYE0aFcKTK"
      },
      "source": [
        "BERT Pre-trained Model"
      ]
    },
    {
      "cell_type": "code",
      "metadata": {
        "colab": {
          "base_uri": "https://localhost:8080/",
          "height": 220,
          "referenced_widgets": [
            "380770e22c56491eb4b9297f606d698f",
            "4e39c92fd78a45ae8ca2db41cc0355e4",
            "43ebfa72f5a24873832054087ae2f4e2",
            "6e03af22d8ff4054a9b4978653e2df06",
            "b4bda52c80694fbe9d5c38292c9cca72",
            "24ba49431f704fa4a035af083a9fb04a",
            "db112474900e4e62bf109a466c79810a",
            "1c2b65b2ab5e49259962c953bfebfaf4",
            "176b27e7aebc4f44b5de5b8abedeec03",
            "22bf6c1943bd4ea6885c4feb4cf3d4ab",
            "3f4b5a42be21451fb7d4eebf6093a669",
            "c2565b0de6f147fdb1bc03936fe4c2e7",
            "432d8b6dd78242dbbf0b4ee6416a2d61",
            "a62944e8fa984308800ba9045ef202cf",
            "26815a5c5ae549ab99ec7516903c8d87",
            "255e112c28314fe6951680abaf2309d4"
          ]
        },
        "id": "rdZ8kTPMcKts",
        "outputId": "8537e390-e207-49a1-b4d7-67086d1a11fd"
      },
      "source": [
        "model = BertForSequenceClassification.from_pretrained(\"bert-base-uncased\",\r\n",
        "                                                      num_labels=len(label_dict),\r\n",
        "                                                      output_attentions=False,\r\n",
        "                                                      output_hidden_states=False)"
      ],
      "execution_count": 18,
      "outputs": [
        {
          "output_type": "display_data",
          "data": {
            "application/vnd.jupyter.widget-view+json": {
              "model_id": "380770e22c56491eb4b9297f606d698f",
              "version_minor": 0,
              "version_major": 2
            },
            "text/plain": [
              "HBox(children=(FloatProgress(value=0.0, description='Downloading', max=433.0, style=ProgressStyle(description_…"
            ]
          },
          "metadata": {
            "tags": []
          }
        },
        {
          "output_type": "stream",
          "text": [
            "\n"
          ],
          "name": "stdout"
        },
        {
          "output_type": "display_data",
          "data": {
            "application/vnd.jupyter.widget-view+json": {
              "model_id": "176b27e7aebc4f44b5de5b8abedeec03",
              "version_minor": 0,
              "version_major": 2
            },
            "text/plain": [
              "HBox(children=(FloatProgress(value=0.0, description='Downloading', max=440473133.0, style=ProgressStyle(descri…"
            ]
          },
          "metadata": {
            "tags": []
          }
        },
        {
          "output_type": "stream",
          "text": [
            "\n"
          ],
          "name": "stdout"
        },
        {
          "output_type": "stream",
          "text": [
            "Some weights of the model checkpoint at bert-base-uncased were not used when initializing BertForSequenceClassification: ['cls.predictions.bias', 'cls.predictions.transform.dense.weight', 'cls.predictions.transform.dense.bias', 'cls.predictions.decoder.weight', 'cls.seq_relationship.weight', 'cls.seq_relationship.bias', 'cls.predictions.transform.LayerNorm.weight', 'cls.predictions.transform.LayerNorm.bias']\n",
            "- This IS expected if you are initializing BertForSequenceClassification from the checkpoint of a model trained on another task or with another architecture (e.g. initializing a BertForSequenceClassification model from a BertForPreTraining model).\n",
            "- This IS NOT expected if you are initializing BertForSequenceClassification from the checkpoint of a model that you expect to be exactly identical (initializing a BertForSequenceClassification model from a BertForSequenceClassification model).\n",
            "Some weights of BertForSequenceClassification were not initialized from the model checkpoint at bert-base-uncased and are newly initialized: ['classifier.weight', 'classifier.bias']\n",
            "You should probably TRAIN this model on a down-stream task to be able to use it for predictions and inference.\n"
          ],
          "name": "stderr"
        }
      ]
    },
    {
      "cell_type": "markdown",
      "metadata": {
        "id": "44khwviRcU91"
      },
      "source": [
        "Data Loaders"
      ]
    },
    {
      "cell_type": "code",
      "metadata": {
        "id": "k0cHn8rHcYDf"
      },
      "source": [
        "from torch.utils.data import DataLoader, RandomSampler, SequentialSampler\r\n",
        "\r\n",
        "batch_size = 3\r\n",
        "\r\n",
        "dataloader_train = DataLoader(dataset_train, \r\n",
        "                              sampler=RandomSampler(dataset_train), \r\n",
        "                              batch_size=batch_size)\r\n",
        "\r\n",
        "dataloader_validation = DataLoader(dataset_val, \r\n",
        "                                   sampler=SequentialSampler(dataset_val), \r\n",
        "                                   batch_size=batch_size)"
      ],
      "execution_count": 19,
      "outputs": []
    },
    {
      "cell_type": "markdown",
      "metadata": {
        "id": "TSINjx2NcpKp"
      },
      "source": [
        "Optimizer & Scheduler"
      ]
    },
    {
      "cell_type": "code",
      "metadata": {
        "id": "Y9HYFaupcb7G"
      },
      "source": [
        "from transformers import AdamW, get_linear_schedule_with_warmup\r\n",
        "\r\n",
        "optimizer = AdamW(model.parameters(),\r\n",
        "                  lr=1e-5, \r\n",
        "                  eps=1e-8)\r\n",
        "                  \r\n",
        "epochs = 5\r\n",
        "\r\n",
        "scheduler = get_linear_schedule_with_warmup(optimizer, \r\n",
        "                                            num_warmup_steps=0,\r\n",
        "                                            num_training_steps=len(dataloader_train)*epochs)"
      ],
      "execution_count": 20,
      "outputs": []
    },
    {
      "cell_type": "markdown",
      "metadata": {
        "id": "m67rDniPcjBi"
      },
      "source": [
        "Performance Metrics"
      ]
    },
    {
      "cell_type": "code",
      "metadata": {
        "id": "Gf2-D7sCcgGa"
      },
      "source": [
        "from sklearn.metrics import f1_score\r\n",
        "\r\n",
        "def f1_score_func(preds, labels):\r\n",
        "    preds_flat = np.argmax(preds, axis=1).flatten()\r\n",
        "    labels_flat = labels.flatten()\r\n",
        "    return f1_score(labels_flat, preds_flat, average='weighted')\r\n",
        "\r\n",
        "def accuracy_per_class(preds, labels):\r\n",
        "    label_dict_inverse = {v: k for k, v in label_dict.items()}\r\n",
        "    \r\n",
        "    preds_flat = np.argmax(preds, axis=1).flatten()\r\n",
        "    labels_flat = labels.flatten()\r\n",
        "\r\n",
        "    for label in np.unique(labels_flat):\r\n",
        "        y_preds = preds_flat[labels_flat==label]\r\n",
        "        y_true = labels_flat[labels_flat==label]\r\n",
        "        print(f'Class: {label_dict_inverse[label]}')\r\n",
        "        print(f'Accuracy: {len(y_preds[y_preds==label])}/{len(y_true)}\\n')"
      ],
      "execution_count": 21,
      "outputs": []
    },
    {
      "cell_type": "markdown",
      "metadata": {
        "id": "nXakZOeZc0rC"
      },
      "source": [
        "Training Loop"
      ]
    },
    {
      "cell_type": "code",
      "metadata": {
        "colab": {
          "base_uri": "https://localhost:8080/"
        },
        "id": "wMIyBfhKev58",
        "outputId": "adb6a057-5d52-4205-dbc4-314f43db3906"
      },
      "source": [
        "import random\r\n",
        "import numpy as np\r\n",
        "\r\n",
        "seed_val = 17\r\n",
        "random.seed(seed_val)\r\n",
        "np.random.seed(seed_val)\r\n",
        "torch.manual_seed(seed_val)\r\n",
        "torch.cuda.manual_seed_all(seed_val)\r\n",
        "device = torch.device('cuda' if torch.cuda.is_available() else 'cpu')\r\n",
        "model.to(device)\r\n",
        "\r\n",
        "print(device)\r\n",
        "def evaluate(dataloader_val):\r\n",
        "\r\n",
        "    model.eval()\r\n",
        "    \r\n",
        "    loss_val_total = 0\r\n",
        "    predictions, true_vals = [], []\r\n",
        "    \r\n",
        "    for batch in dataloader_val:\r\n",
        "        \r\n",
        "        batch = tuple(b.to(device) for b in batch)\r\n",
        "        \r\n",
        "        inputs = {'input_ids':      batch[0],\r\n",
        "                  'attention_mask': batch[1],\r\n",
        "                  'labels':         batch[2],\r\n",
        "                 }\r\n",
        "\r\n",
        "        with torch.no_grad():        \r\n",
        "            outputs = model(**inputs)\r\n",
        "            \r\n",
        "        loss = outputs[0]\r\n",
        "        logits = outputs[1]\r\n",
        "        loss_val_total += loss.item()\r\n",
        "\r\n",
        "        logits = logits.detach().cpu().numpy()\r\n",
        "        label_ids = inputs['labels'].cpu().numpy()\r\n",
        "        predictions.append(logits)\r\n",
        "        true_vals.append(label_ids)\r\n",
        "    \r\n",
        "    loss_val_avg = loss_val_total/len(dataloader_val) \r\n",
        "    \r\n",
        "    predictions = np.concatenate(predictions, axis=0)\r\n",
        "    true_vals = np.concatenate(true_vals, axis=0)\r\n",
        "            \r\n",
        "    return loss_val_avg, predictions, true_vals"
      ],
      "execution_count": 22,
      "outputs": [
        {
          "output_type": "stream",
          "text": [
            "cpu\n"
          ],
          "name": "stdout"
        }
      ]
    },
    {
      "cell_type": "code",
      "metadata": {
        "colab": {
          "base_uri": "https://localhost:8080/",
          "height": 81,
          "referenced_widgets": [
            "d0293eb033ca41debe8575f0004bf739",
            "3e3addf76720451d83c022d42a43b657",
            "fc95da1690464e5da801dd00be64e542",
            "f8f0bd56857d459aa787fec68817490e",
            "b4a014eac3b1462eb4528a88fbe8ea05",
            "8f94d9b133914858981ea656503aeca9",
            "21310f0994254b43960549a2beaa5b56",
            "a44e1ad9bc4f499bbbe31839397fa299",
            "a8c8a4fde56642e6bcb961f762dbac4a",
            "11a6e4dca79f4edaa5e06cbaa9b01916",
            "5dfa40038f43421a84d727697ba1352b",
            "87a51d6337864b0b8955b49c0c763021",
            "ae9d7725a1e847aea95455b13d23e2ba",
            "d481a7ea72674c3d884bc94afcfe56e4",
            "73ce5144cbcb4e11a91a38f86447da9c",
            "26ce3911bb5845749d4c7465ad2daf95"
          ]
        },
        "id": "bc0pTY7kczIj",
        "outputId": "2ae285ea-f0d8-4131-91f0-207f429ae8b4"
      },
      "source": [
        "for epoch in tqdm(range(1, epochs+1)):\r\n",
        "    \r\n",
        "    model.train()\r\n",
        "    \r\n",
        "    loss_train_total = 0\r\n",
        "\r\n",
        "    progress_bar = tqdm(dataloader_train, desc='Epoch {:1d}'.format(epoch), leave=False, disable=False)\r\n",
        "    for batch in progress_bar:\r\n",
        "\r\n",
        "        model.zero_grad()\r\n",
        "        \r\n",
        "        batch = tuple(b.to(device) for b in batch)\r\n",
        "        #barch = tuple(b.to(device) for b in batch)\r\n",
        "        \r\n",
        "        inputs = {'input_ids':      batch[0],\r\n",
        "                  'attention_mask': batch[1],\r\n",
        "                  'labels':         batch[2],\r\n",
        "                 }       \r\n",
        "\r\n",
        "        outputs = model(**inputs)\r\n",
        "        \r\n",
        "        loss = outputs[0]\r\n",
        "        loss_train_total += loss.item()\r\n",
        "        loss.backward()\r\n",
        "\r\n",
        "        torch.nn.utils.clip_grad_norm_(model.parameters(), 1.0)\r\n",
        "\r\n",
        "        optimizer.step()\r\n",
        "        scheduler.step()\r\n",
        "        \r\n",
        "        progress_bar.set_postfix({'training_loss': '{:.3f}'.format(loss.item()/len(batch))})\r\n",
        "         \r\n",
        "        \r\n",
        "    torch.save(model.state_dict(), f'/content/finetuned_BERT_epoch_{epoch}.model')\r\n",
        "        \r\n",
        "    tqdm.write(f'\\nEpoch {epoch}')\r\n",
        "    \r\n",
        "    loss_train_avg = loss_train_total/len(dataloader_train)            \r\n",
        "    tqdm.write(f'Training loss: {loss_train_avg}')\r\n",
        "    \r\n",
        "    val_loss, predictions, true_vals = evaluate(dataloader_validation)\r\n",
        "    val_f1 = f1_score_func(predictions, true_vals)\r\n",
        "    tqdm.write(f'Validation loss: {val_loss}')\r\n",
        "    tqdm.write(f'F1 Score (Weighted): {val_f1}')"
      ],
      "execution_count": null,
      "outputs": [
        {
          "output_type": "display_data",
          "data": {
            "application/vnd.jupyter.widget-view+json": {
              "model_id": "d0293eb033ca41debe8575f0004bf739",
              "version_minor": 0,
              "version_major": 2
            },
            "text/plain": [
              "HBox(children=(FloatProgress(value=0.0, max=5.0), HTML(value='')))"
            ]
          },
          "metadata": {
            "tags": []
          }
        },
        {
          "output_type": "display_data",
          "data": {
            "application/vnd.jupyter.widget-view+json": {
              "model_id": "a8c8a4fde56642e6bcb961f762dbac4a",
              "version_minor": 0,
              "version_major": 2
            },
            "text/plain": [
              "HBox(children=(FloatProgress(value=0.0, description='Epoch 1', max=534.0, style=ProgressStyle(description_widt…"
            ]
          },
          "metadata": {
            "tags": []
          }
        }
      ]
    },
    {
      "cell_type": "markdown",
      "metadata": {
        "id": "vPRXKHd_c39i"
      },
      "source": [
        "Loading and Evaluating the Model"
      ]
    },
    {
      "cell_type": "code",
      "metadata": {
        "id": "52xkNcM2c4Pb"
      },
      "source": [
        "model = BertForSequenceClassification.from_pretrained(\"bert-base-uncased\",\r\n",
        "                                                      num_labels=len(label_dict),\r\n",
        "                                                      output_attentions=False,\r\n",
        "                                                      output_hidden_states=False)\r\n",
        "\r\n",
        "model.to(device)\r\n",
        "\r\n",
        "model.load_state_dict(torch.load('/content/finetuned_BERT_epoch_1.model', map_location=torch.device('cpu')))\r\n",
        "\r\n",
        "_, predictions, true_vals = evaluate(dataloader_validation)\r\n",
        "accuracy_per_class(predictions, true_vals)"
      ],
      "execution_count": null,
      "outputs": []
    }
  ]
}